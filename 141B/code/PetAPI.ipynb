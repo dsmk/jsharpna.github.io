{
 "cells": [
  {
   "cell_type": "markdown",
   "metadata": {},
   "source": [
    "# Petfinder API\n",
    "We found our dog Emmy (a mixed breed herding dog named after the German mathematician Emmy Noether) on petfinder.com.\n",
    "They also provide an API, which let's you access their data in your own applications, and here on Jupyter.\n",
    "\n",
    "<b>New packages:</b> urllib2 (for making http requests), and json (for parsing json strings)."
   ]
  },
  {
   "cell_type": "code",
   "execution_count": 240,
   "metadata": {
    "collapsed": true
   },
   "outputs": [],
   "source": [
    "from urllib2 import Request, urlopen, HTTPError\n",
    "from urlparse import urlunparse, urlparse\n",
    "import json \n",
    "import pandas as pd\n",
    "from matplotlib import pyplot as plt\n",
    "plt.style.use('ggplot')\n",
    "%matplotlib inline"
   ]
  },
  {
   "cell_type": "markdown",
   "metadata": {},
   "source": [
    "Let's get the dog breeds from petfinder.  The breed_uri variable specifies my key (you will need your own), the method that I want to use, breed.list, the species, and the format of the output (JSON).  This format is specific to the petfinder api (<a href=\"https://www.petfinder.com/developers/api-docs\">you can look at the documentation</a>)."
   ]
  },
  {
   "cell_type": "code",
   "execution_count": 14,
   "metadata": {
    "collapsed": true
   },
   "outputs": [],
   "source": [
    "key = \"968c2462c24152988a11d4c81e271b44\""
   ]
  },
  {
   "cell_type": "code",
   "execution_count": 45,
   "metadata": {
    "collapsed": true
   },
   "outputs": [],
   "source": [
    "breed_uri = \"http://api.petfinder.com/breed.list?key={}&animal=dog&format=json\".format(key)\n",
    "request = Request(breed_uri)\n",
    "response = urlopen(request)\n",
    "rr = response.read()"
   ]
  },
  {
   "cell_type": "markdown",
   "metadata": {},
   "source": [
    "The output is a JSON object, which is really just dictionaries and lists.  So, it will be a dictionary that could have values as dictionaries or lists.  These lists can then have dictionaries as elements, and so on.  Turtles all the way down."
   ]
  },
  {
   "cell_type": "code",
   "execution_count": 52,
   "metadata": {
    "collapsed": false
   },
   "outputs": [
    {
     "name": "stdout",
     "output_type": "stream",
     "text": [
      "<type 'str'>\n",
      "{\"@encoding\":\"iso-8859-1\",\"@version\":\"1.0\",\"petfinder\":{\"@xmlns:xsi\":\"http://www.w3.org/2001/XMLSchema-instance\",\"breeds\":{\"breed\":[{\"$t\":\"Affenpinscher\"},{\"$t\":\"Afghan Hound\"},{\"$t\":\"Airedale Terrier\"},{\"$t\":\"Akbash\"},{\"$t\":\"Akita\"},{\"$t\":\"Alaskan Malamute\"},{\"$t\":\"American Bulldog\"},{\"$t\":\"American Eskimo Dog\"},{\"$t\":\"American Hairless Terrier\"},{\"$t\":\"American Staffordshire Terrier\"},{\"$t\":\"Ame...\n"
     ]
    }
   ],
   "source": [
    "print type(rr)\n",
    "print rr[0:400]+'...'"
   ]
  },
  {
   "cell_type": "code",
   "execution_count": 54,
   "metadata": {
    "collapsed": false
   },
   "outputs": [
    {
     "name": "stdout",
     "output_type": "stream",
     "text": [
      "<type 'dict'>\n"
     ]
    },
    {
     "data": {
      "text/plain": [
       "[u'petfinder', u'@version', u'@encoding']"
      ]
     },
     "execution_count": 54,
     "metadata": {},
     "output_type": "execute_result"
    }
   ],
   "source": [
    "js = json.loads(rr)\n",
    "print type(js)\n",
    "js.keys()"
   ]
  },
  {
   "cell_type": "code",
   "execution_count": 37,
   "metadata": {
    "collapsed": false
   },
   "outputs": [
    {
     "data": {
      "text/plain": [
       "[u'header', u'@xmlns:xsi', u'@xsi:noNamespaceSchemaLocation', u'breeds']"
      ]
     },
     "execution_count": 37,
     "metadata": {},
     "output_type": "execute_result"
    }
   ],
   "source": [
    "js[u'petfinder'].keys()"
   ]
  },
  {
   "cell_type": "code",
   "execution_count": 38,
   "metadata": {
    "collapsed": false
   },
   "outputs": [
    {
     "data": {
      "text/plain": [
       "{u'@animal': u'dog',\n",
       " u'breed': [{u'$t': u'Affenpinscher'},\n",
       "  {u'$t': u'Afghan Hound'},\n",
       "  {u'$t': u'Airedale Terrier'},\n",
       "  {u'$t': u'Akbash'},\n",
       "  {u'$t': u'Akita'},\n",
       "  {u'$t': u'Alaskan Malamute'},\n",
       "  {u'$t': u'American Bulldog'},\n",
       "  {u'$t': u'American Eskimo Dog'},\n",
       "  {u'$t': u'American Hairless Terrier'},\n",
       "  {u'$t': u'American Staffordshire Terrier'},\n",
       "  {u'$t': u'American Water Spaniel'},\n",
       "  {u'$t': u'Anatolian Shepherd'},\n",
       "  {u'$t': u'Appenzell Mountain Dog'},\n",
       "  {u'$t': u'Australian Cattle Dog (Blue Heeler)'},\n",
       "  {u'$t': u'Australian Kelpie'},\n",
       "  {u'$t': u'Australian Shepherd'},\n",
       "  {u'$t': u'Australian Terrier'},\n",
       "  {u'$t': u'Basenji'},\n",
       "  {u'$t': u'Basset Hound'},\n",
       "  {u'$t': u'Beagle'},\n",
       "  {u'$t': u'Bearded Collie'},\n",
       "  {u'$t': u'Beauceron'},\n",
       "  {u'$t': u'Bedlington Terrier'},\n",
       "  {u'$t': u'Belgian Shepherd Dog Sheepdog'},\n",
       "  {u'$t': u'Belgian Shepherd Laekenois'},\n",
       "  {u'$t': u'Belgian Shepherd Malinois'},\n",
       "  {u'$t': u'Belgian Shepherd Tervuren'},\n",
       "  {u'$t': u'Bernese Mountain Dog'},\n",
       "  {u'$t': u'Bichon Frise'},\n",
       "  {u'$t': u'Black and Tan Coonhound'},\n",
       "  {u'$t': u'Black Labrador Retriever'},\n",
       "  {u'$t': u'Black Mouth Cur'},\n",
       "  {u'$t': u'Black Russian Terrier'},\n",
       "  {u'$t': u'Bloodhound'},\n",
       "  {u'$t': u'Blue Lacy'},\n",
       "  {u'$t': u'Bluetick Coonhound'},\n",
       "  {u'$t': u'Boerboel'},\n",
       "  {u'$t': u'Bolognese'},\n",
       "  {u'$t': u'Border Collie'},\n",
       "  {u'$t': u'Border Terrier'},\n",
       "  {u'$t': u'Borzoi'},\n",
       "  {u'$t': u'Boston Terrier'},\n",
       "  {u'$t': u'Bouvier des Flanders'},\n",
       "  {u'$t': u'Boxer'},\n",
       "  {u'$t': u'Boykin Spaniel'},\n",
       "  {u'$t': u'Briard'},\n",
       "  {u'$t': u'Brittany Spaniel'},\n",
       "  {u'$t': u'Brussels Griffon'},\n",
       "  {u'$t': u'Bull Terrier'},\n",
       "  {u'$t': u'Bullmastiff'},\n",
       "  {u'$t': u'Cairn Terrier'},\n",
       "  {u'$t': u'Canaan Dog'},\n",
       "  {u'$t': u'Cane Corso Mastiff'},\n",
       "  {u'$t': u'Carolina Dog'},\n",
       "  {u'$t': u'Catahoula Leopard Dog'},\n",
       "  {u'$t': u'Cattle Dog'},\n",
       "  {u'$t': u'Caucasian Sheepdog (Caucasian Ovtcharka)'},\n",
       "  {u'$t': u'Cavalier King Charles Spaniel'},\n",
       "  {u'$t': u'Chesapeake Bay Retriever'},\n",
       "  {u'$t': u'Chihuahua'},\n",
       "  {u'$t': u'Chinese Crested Dog'},\n",
       "  {u'$t': u'Chinese Foo Dog'},\n",
       "  {u'$t': u'Chinook'},\n",
       "  {u'$t': u'Chocolate Labrador Retriever'},\n",
       "  {u'$t': u'Chow Chow'},\n",
       "  {u'$t': u\"Cirneco dell'Etna\"},\n",
       "  {u'$t': u'Clumber Spaniel'},\n",
       "  {u'$t': u'Cockapoo'},\n",
       "  {u'$t': u'Cocker Spaniel'},\n",
       "  {u'$t': u'Collie'},\n",
       "  {u'$t': u'Coonhound'},\n",
       "  {u'$t': u'Corgi'},\n",
       "  {u'$t': u'Coton de Tulear'},\n",
       "  {u'$t': u'Curly-Coated Retriever'},\n",
       "  {u'$t': u'Dachshund'},\n",
       "  {u'$t': u'Dalmatian'},\n",
       "  {u'$t': u'Dandi Dinmont Terrier'},\n",
       "  {u'$t': u'Doberman Pinscher'},\n",
       "  {u'$t': u'Dogo Argentino'},\n",
       "  {u'$t': u'Dogue de Bordeaux'},\n",
       "  {u'$t': u'Dutch Shepherd'},\n",
       "  {u'$t': u'English Bulldog'},\n",
       "  {u'$t': u'English Cocker Spaniel'},\n",
       "  {u'$t': u'English Coonhound'},\n",
       "  {u'$t': u'English Pointer'},\n",
       "  {u'$t': u'English Setter'},\n",
       "  {u'$t': u'English Shepherd'},\n",
       "  {u'$t': u'English Springer Spaniel'},\n",
       "  {u'$t': u'English Toy Spaniel'},\n",
       "  {u'$t': u'Entlebucher'},\n",
       "  {u'$t': u'Eskimo Dog'},\n",
       "  {u'$t': u'Feist'},\n",
       "  {u'$t': u'Field Spaniel'},\n",
       "  {u'$t': u'Fila Brasileiro'},\n",
       "  {u'$t': u'Finnish Lapphund'},\n",
       "  {u'$t': u'Finnish Spitz'},\n",
       "  {u'$t': u'Flat-coated Retriever'},\n",
       "  {u'$t': u'Fox Terrier'},\n",
       "  {u'$t': u'Foxhound'},\n",
       "  {u'$t': u'French Bulldog'},\n",
       "  {u'$t': u'Galgo Spanish Greyhound'},\n",
       "  {u'$t': u'German Pinscher'},\n",
       "  {u'$t': u'German Shepherd Dog'},\n",
       "  {u'$t': u'German Shorthaired Pointer'},\n",
       "  {u'$t': u'German Spitz'},\n",
       "  {u'$t': u'German Wirehaired Pointer'},\n",
       "  {u'$t': u'Giant Schnauzer'},\n",
       "  {u'$t': u'Glen of Imaal Terrier'},\n",
       "  {u'$t': u'Golden Retriever'},\n",
       "  {u'$t': u'Gordon Setter'},\n",
       "  {u'$t': u'Great Dane'},\n",
       "  {u'$t': u'Great Pyrenees'},\n",
       "  {u'$t': u'Greater Swiss Mountain Dog'},\n",
       "  {u'$t': u'Greyhound'},\n",
       "  {u'$t': u'Hamiltonstovare'},\n",
       "  {u'$t': u'Harrier'},\n",
       "  {u'$t': u'Havanese'},\n",
       "  {u'$t': u'Hound'},\n",
       "  {u'$t': u'Hovawart'},\n",
       "  {u'$t': u'Husky'},\n",
       "  {u'$t': u'Ibizan Hound'},\n",
       "  {u'$t': u'Icelandic Sheepdog'},\n",
       "  {u'$t': u'Illyrian Sheepdog'},\n",
       "  {u'$t': u'Irish Setter'},\n",
       "  {u'$t': u'Irish Terrier'},\n",
       "  {u'$t': u'Irish Water Spaniel'},\n",
       "  {u'$t': u'Irish Wolfhound'},\n",
       "  {u'$t': u'Italian Greyhound'},\n",
       "  {u'$t': u'Italian Spinone'},\n",
       "  {u'$t': u'Jack Russell Terrier'},\n",
       "  {u'$t': u'Jack Russell Terrier (Parson Russell Terrier)'},\n",
       "  {u'$t': u'Japanese Chin'},\n",
       "  {u'$t': u'Jindo'},\n",
       "  {u'$t': u'Kai Dog'},\n",
       "  {u'$t': u'Karelian Bear Dog'},\n",
       "  {u'$t': u'Keeshond'},\n",
       "  {u'$t': u'Kerry Blue Terrier'},\n",
       "  {u'$t': u'Kishu'},\n",
       "  {u'$t': u'Klee Kai'},\n",
       "  {u'$t': u'Komondor'},\n",
       "  {u'$t': u'Kuvasz'},\n",
       "  {u'$t': u'Kyi Leo'},\n",
       "  {u'$t': u'Labrador Retriever'},\n",
       "  {u'$t': u'Lakeland Terrier'},\n",
       "  {u'$t': u'Lancashire Heeler'},\n",
       "  {u'$t': u'Leonberger'},\n",
       "  {u'$t': u'Lhasa Apso'},\n",
       "  {u'$t': u'Lowchen'},\n",
       "  {u'$t': u'Maltese'},\n",
       "  {u'$t': u'Manchester Terrier'},\n",
       "  {u'$t': u'Maremma Sheepdog'},\n",
       "  {u'$t': u'Mastiff'},\n",
       "  {u'$t': u'McNab'},\n",
       "  {u'$t': u'Miniature Pinscher'},\n",
       "  {u'$t': u'Miniature Schnauzer'},\n",
       "  {u'$t': u'Mixed Breed'},\n",
       "  {u'$t': u'Mountain Cur'},\n",
       "  {u'$t': u'Mountain Dog'},\n",
       "  {u'$t': u'Munsterlander'},\n",
       "  {u'$t': u'Neapolitan Mastiff'},\n",
       "  {u'$t': u'New Guinea Singing Dog'},\n",
       "  {u'$t': u'Newfoundland Dog'},\n",
       "  {u'$t': u'Norfolk Terrier'},\n",
       "  {u'$t': u'Norwegian Buhund'},\n",
       "  {u'$t': u'Norwegian Elkhound'},\n",
       "  {u'$t': u'Norwegian Lundehund'},\n",
       "  {u'$t': u'Norwich Terrier'},\n",
       "  {u'$t': u'Nova Scotia Duck-Tolling Retriever'},\n",
       "  {u'$t': u'Old English Sheepdog'},\n",
       "  {u'$t': u'Otterhound'},\n",
       "  {u'$t': u'Papillon'},\n",
       "  {u'$t': u'Patterdale Terrier (Fell Terrier)'},\n",
       "  {u'$t': u'Pekingese'},\n",
       "  {u'$t': u'Peruvian Inca Orchid'},\n",
       "  {u'$t': u'Petit Basset Griffon Vendeen'},\n",
       "  {u'$t': u'Pharaoh Hound'},\n",
       "  {u'$t': u'Pit Bull Terrier'},\n",
       "  {u'$t': u'Plott Hound'},\n",
       "  {u'$t': u'Podengo Portugueso'},\n",
       "  {u'$t': u'Pointer'},\n",
       "  {u'$t': u'Polish Lowland Sheepdog'},\n",
       "  {u'$t': u'Pomeranian'},\n",
       "  {u'$t': u'Poodle'},\n",
       "  {u'$t': u'Portuguese Water Dog'},\n",
       "  {u'$t': u'Presa Canario'},\n",
       "  {u'$t': u'Pug'},\n",
       "  {u'$t': u'Puli'},\n",
       "  {u'$t': u'Pumi'},\n",
       "  {u'$t': u'Rat Terrier'},\n",
       "  {u'$t': u'Redbone Coonhound'},\n",
       "  {u'$t': u'Retriever'},\n",
       "  {u'$t': u'Rhodesian Ridgeback'},\n",
       "  {u'$t': u'Rottweiler'},\n",
       "  {u'$t': u'Rough Collie'},\n",
       "  {u'$t': u'Saint Bernard St. Bernard'},\n",
       "  {u'$t': u'Saluki'},\n",
       "  {u'$t': u'Samoyed'},\n",
       "  {u'$t': u'Sarplaninac'},\n",
       "  {u'$t': u'Schipperke'},\n",
       "  {u'$t': u'Schnauzer'},\n",
       "  {u'$t': u'Scottish Deerhound'},\n",
       "  {u'$t': u'Scottish Terrier Scottie'},\n",
       "  {u'$t': u'Sealyham Terrier'},\n",
       "  {u'$t': u'Setter'},\n",
       "  {u'$t': u'Shar Pei'},\n",
       "  {u'$t': u'Sheep Dog'},\n",
       "  {u'$t': u'Shepherd'},\n",
       "  {u'$t': u'Shetland Sheepdog Sheltie'},\n",
       "  {u'$t': u'Shiba Inu'},\n",
       "  {u'$t': u'Shih Tzu'},\n",
       "  {u'$t': u'Siberian Husky'},\n",
       "  {u'$t': u'Silky Terrier'},\n",
       "  {u'$t': u'Skye Terrier'},\n",
       "  {u'$t': u'Sloughi'},\n",
       "  {u'$t': u'Smooth Collie'},\n",
       "  {u'$t': u'Smooth Fox Terrier'},\n",
       "  {u'$t': u'South Russian Ovtcharka'},\n",
       "  {u'$t': u'Spaniel'},\n",
       "  {u'$t': u'Spanish Water Dog'},\n",
       "  {u'$t': u'Spitz'},\n",
       "  {u'$t': u'Staffordshire Bull Terrier'},\n",
       "  {u'$t': u'Standard Poodle'},\n",
       "  {u'$t': u'Standard Schnauzer'},\n",
       "  {u'$t': u'Sussex Spaniel'},\n",
       "  {u'$t': u'Swedish Vallhund'},\n",
       "  {u'$t': u'Terrier'},\n",
       "  {u'$t': u'Thai Ridgeback'},\n",
       "  {u'$t': u'Tibetan Mastiff'},\n",
       "  {u'$t': u'Tibetan Spaniel'},\n",
       "  {u'$t': u'Tibetan Terrier'},\n",
       "  {u'$t': u'Tosa Inu'},\n",
       "  {u'$t': u'Toy Fox Terrier'},\n",
       "  {u'$t': u'Treeing Walker Coonhound'},\n",
       "  {u'$t': u'Vizsla'},\n",
       "  {u'$t': u'Weimaraner'},\n",
       "  {u'$t': u'Welsh Corgi'},\n",
       "  {u'$t': u'Welsh Springer Spaniel'},\n",
       "  {u'$t': u'Welsh Terrier'},\n",
       "  {u'$t': u'West Highland White Terrier Westie'},\n",
       "  {u'$t': u'Wheaten Terrier'},\n",
       "  {u'$t': u'Whippet'},\n",
       "  {u'$t': u'White German Shepherd'},\n",
       "  {u'$t': u'Wire Fox Terrier'},\n",
       "  {u'$t': u'Wire-haired Pointing Griffon'},\n",
       "  {u'$t': u'Wirehaired Dachshund'},\n",
       "  {u'$t': u'Wirehaired Terrier'},\n",
       "  {u'$t': u'Xoloitzcuintle (Mexican Hairless)'},\n",
       "  {u'$t': u'Yellow Labrador Retriever'},\n",
       "  {u'$t': u'Yorkshire Terrier Yorkie'}]}"
      ]
     },
     "execution_count": 38,
     "metadata": {},
     "output_type": "execute_result"
    }
   ],
   "source": [
    "js[u'petfinder'][u'breeds']"
   ]
  },
  {
   "cell_type": "code",
   "execution_count": 39,
   "metadata": {
    "collapsed": false
   },
   "outputs": [],
   "source": [
    "breeds = [b[u'$t'] for b in js['petfinder']['breeds']['breed']]"
   ]
  },
  {
   "cell_type": "code",
   "execution_count": 40,
   "metadata": {
    "collapsed": false
   },
   "outputs": [
    {
     "name": "stdout",
     "output_type": "stream",
     "text": [
      "Affenpinscher, Afghan Hound, Airedale Terrier, Akbash, Akita, Alaskan Malamute, American Bulldog, American Eskimo Dog, American Hairless Terrier, American Staffordshire Terrier, American Water Spaniel, Anatolian Shepherd, Appenzell Mountain Dog, Australian Cattle Dog (Blue Heeler), Australian Kelpie, Australian Shepherd, Australian Terrier, Basenji, Basset Hound, Beagle, Bearded Collie, Beauceron, Bedlington Terrier, Belgian Shepherd Dog Sheepdog, Belgian Shepherd Laekenois, Belgian Shepherd Malinois, Belgian Shepherd Tervuren, Bernese Mountain Dog, Bichon Frise, Black and Tan Coonhound, Black Labrador Retriever, Black Mouth Cur, Black Russian Terrier, Bloodhound, Blue Lacy, Bluetick Coonhound, Boerboel, Bolognese, Border Collie, Border Terrier, Borzoi, Boston Terrier, Bouvier des Flanders, Boxer, Boykin Spaniel, Briard, Brittany Spaniel, Brussels Griffon, Bull Terrier, Bullmastiff, Cairn Terrier, Canaan Dog, Cane Corso Mastiff, Carolina Dog, Catahoula Leopard Dog, Cattle Dog, Caucasian Sheepdog (Caucasian Ovtcharka), Cavalier King Charles Spaniel, Chesapeake Bay Retriever, Chihuahua, Chinese Crested Dog, Chinese Foo Dog, Chinook, Chocolate Labrador Retriever, Chow Chow, Cirneco dell'Etna, Clumber Spaniel, Cockapoo, Cocker Spaniel, Collie, Coonhound, Corgi, Coton de Tulear, Curly-Coated Retriever, Dachshund, Dalmatian, Dandi Dinmont Terrier, Doberman Pinscher, Dogo Argentino, Dogue de Bordeaux, Dutch Shepherd, English Bulldog, English Cocker Spaniel, English Coonhound, English Pointer, English Setter, English Shepherd, English Springer Spaniel, English Toy Spaniel, Entlebucher, Eskimo Dog, Feist, Field Spaniel, Fila Brasileiro, Finnish Lapphund, Finnish Spitz, Flat-coated Retriever, Fox Terrier, Foxhound, French Bulldog, Galgo Spanish Greyhound, German Pinscher, German Shepherd Dog, German Shorthaired Pointer, German Spitz, German Wirehaired Pointer, Giant Schnauzer, Glen of Imaal Terrier, Golden Retriever, Gordon Setter, Great Dane, Great Pyrenees, Greater Swiss Mountain Dog, Greyhound, Hamiltonstovare, Harrier, Havanese, Hound, Hovawart, Husky, Ibizan Hound, Icelandic Sheepdog, Illyrian Sheepdog, Irish Setter, Irish Terrier, Irish Water Spaniel, Irish Wolfhound, Italian Greyhound, Italian Spinone, Jack Russell Terrier, Jack Russell Terrier (Parson Russell Terrier), Japanese Chin, Jindo, Kai Dog, Karelian Bear Dog, Keeshond, Kerry Blue Terrier, Kishu, Klee Kai, Komondor, Kuvasz, Kyi Leo, Labrador Retriever, Lakeland Terrier, Lancashire Heeler, Leonberger, Lhasa Apso, Lowchen, Maltese, Manchester Terrier, Maremma Sheepdog, Mastiff, McNab, Miniature Pinscher, Miniature Schnauzer, Mixed Breed, Mountain Cur, Mountain Dog, Munsterlander, Neapolitan Mastiff, New Guinea Singing Dog, Newfoundland Dog, Norfolk Terrier, Norwegian Buhund, Norwegian Elkhound, Norwegian Lundehund, Norwich Terrier, Nova Scotia Duck-Tolling Retriever, Old English Sheepdog, Otterhound, Papillon, Patterdale Terrier (Fell Terrier), Pekingese, Peruvian Inca Orchid, Petit Basset Griffon Vendeen, Pharaoh Hound, Pit Bull Terrier, Plott Hound, Podengo Portugueso, Pointer, Polish Lowland Sheepdog, Pomeranian, Poodle, Portuguese Water Dog, Presa Canario, Pug, Puli, Pumi, Rat Terrier, Redbone Coonhound, Retriever, Rhodesian Ridgeback, Rottweiler, Rough Collie, Saint Bernard St. Bernard, Saluki, Samoyed, Sarplaninac, Schipperke, Schnauzer, Scottish Deerhound, Scottish Terrier Scottie, Sealyham Terrier, Setter, Shar Pei, Sheep Dog, Shepherd, Shetland Sheepdog Sheltie, Shiba Inu, Shih Tzu, Siberian Husky, Silky Terrier, Skye Terrier, Sloughi, Smooth Collie, Smooth Fox Terrier, South Russian Ovtcharka, Spaniel, Spanish Water Dog, Spitz, Staffordshire Bull Terrier, Standard Poodle, Standard Schnauzer, Sussex Spaniel, Swedish Vallhund, Terrier, Thai Ridgeback, Tibetan Mastiff, Tibetan Spaniel, Tibetan Terrier, Tosa Inu, Toy Fox Terrier, Treeing Walker Coonhound, Vizsla, Weimaraner, Welsh Corgi, Welsh Springer Spaniel, Welsh Terrier, West Highland White Terrier Westie, Wheaten Terrier, Whippet, White German Shepherd, Wire Fox Terrier, Wire-haired Pointing Griffon, Wirehaired Dachshund, Wirehaired Terrier, Xoloitzcuintle (Mexican Hairless), Yellow Labrador Retriever, Yorkshire Terrier Yorkie\n"
     ]
    }
   ],
   "source": [
    "print \", \".join(breeds)"
   ]
  },
  {
   "cell_type": "markdown",
   "metadata": {},
   "source": [
    "Petfinder also provides the pet.getRandom method that let's you get a random animal of a specified species."
   ]
  },
  {
   "cell_type": "code",
   "execution_count": 284,
   "metadata": {
    "collapsed": true
   },
   "outputs": [],
   "source": [
    "pet_url_ex = \"http://api.petfinder.com/pet.getRandom?key={}&animal=dog&format=json&output=basic\".format(key)\n",
    "request = Request(pet_url_ex)\n",
    "response = urlopen(request)\n",
    "js = json.loads(response.read())"
   ]
  },
  {
   "cell_type": "code",
   "execution_count": 56,
   "metadata": {
    "collapsed": false,
    "scrolled": true
   },
   "outputs": [
    {
     "data": {
      "text/plain": [
       "{u'@encoding': u'iso-8859-1',\n",
       " u'@version': u'1.0',\n",
       " u'petfinder': {u'@xmlns:xsi': u'http://www.w3.org/2001/XMLSchema-instance',\n",
       "  u'@xsi:noNamespaceSchemaLocation': u'http://api.petfinder.com/schemas/0.9/petfinder.xsd',\n",
       "  u'header': {u'status': {u'code': {u'$t': u'100'}, u'message': {}},\n",
       "   u'timestamp': {u'$t': u'2017-02-05T23:52:01Z'},\n",
       "   u'version': {u'$t': u'0.1'}},\n",
       "  u'pet': {u'age': {u'$t': u'Baby'},\n",
       "   u'animal': {u'$t': u'Dog'},\n",
       "   u'breeds': {u'breed': {u'$t': u'Terrier'}},\n",
       "   u'contact': {u'address1': {},\n",
       "    u'address2': {},\n",
       "    u'city': {u'$t': u'Dallas'},\n",
       "    u'email': {u'$t': u'adopt@codysfriendsrescue.com'},\n",
       "    u'fax': {u'$t': u'1-214-975-2869'},\n",
       "    u'phone': {},\n",
       "    u'state': {u'$t': u'TX'},\n",
       "    u'zip': {u'$t': u'75248'}},\n",
       "   u'description': {u'$t': u\"Willow is a precious girl we rescued from a local shelter.  she is very gentle, and excited to be around people .   She's not showing any food aggression, has taken food and treats from my hand, and has given my cat affectionate kisses. She's enjoying her crate, and likes to play with her toys. It's a bit early yet, but so far she's been excellent about going outdoors to relieve herself. She seems like she'll be a smart girl and has an excellent demeanor.\"},\n",
       "   u'id': {u'$t': u'37139683'},\n",
       "   u'lastUpdate': {u'$t': u'2017-01-07T19:45:38Z'},\n",
       "   u'media': {u'photos': {u'photo': [{u'$t': u'http://photos.petfinder.com/photos/pets/37139683/1/?bust=1483818088&width=60&-pnt.jpg',\n",
       "       u'@id': u'1',\n",
       "       u'@size': u'pnt'},\n",
       "      {u'$t': u'http://photos.petfinder.com/photos/pets/37139683/1/?bust=1483818088&width=95&-fpm.jpg',\n",
       "       u'@id': u'1',\n",
       "       u'@size': u'fpm'},\n",
       "      {u'$t': u'http://photos.petfinder.com/photos/pets/37139683/1/?bust=1483818088&width=500&-x.jpg',\n",
       "       u'@id': u'1',\n",
       "       u'@size': u'x'},\n",
       "      {u'$t': u'http://photos.petfinder.com/photos/pets/37139683/1/?bust=1483818088&width=300&-pn.jpg',\n",
       "       u'@id': u'1',\n",
       "       u'@size': u'pn'},\n",
       "      {u'$t': u'http://photos.petfinder.com/photos/pets/37139683/1/?bust=1483818088&width=50&-t.jpg',\n",
       "       u'@id': u'1',\n",
       "       u'@size': u't'},\n",
       "      {u'$t': u'http://photos.petfinder.com/photos/pets/37139683/2/?bust=1483818088&width=60&-pnt.jpg',\n",
       "       u'@id': u'2',\n",
       "       u'@size': u'pnt'},\n",
       "      {u'$t': u'http://photos.petfinder.com/photos/pets/37139683/2/?bust=1483818088&width=95&-fpm.jpg',\n",
       "       u'@id': u'2',\n",
       "       u'@size': u'fpm'},\n",
       "      {u'$t': u'http://photos.petfinder.com/photos/pets/37139683/2/?bust=1483818088&width=500&-x.jpg',\n",
       "       u'@id': u'2',\n",
       "       u'@size': u'x'},\n",
       "      {u'$t': u'http://photos.petfinder.com/photos/pets/37139683/2/?bust=1483818088&width=300&-pn.jpg',\n",
       "       u'@id': u'2',\n",
       "       u'@size': u'pn'},\n",
       "      {u'$t': u'http://photos.petfinder.com/photos/pets/37139683/2/?bust=1483818088&width=50&-t.jpg',\n",
       "       u'@id': u'2',\n",
       "       u'@size': u't'},\n",
       "      {u'$t': u'http://photos.petfinder.com/photos/pets/37139683/3/?bust=1483818280&width=60&-pnt.jpg',\n",
       "       u'@id': u'3',\n",
       "       u'@size': u'pnt'},\n",
       "      {u'$t': u'http://photos.petfinder.com/photos/pets/37139683/3/?bust=1483818280&width=95&-fpm.jpg',\n",
       "       u'@id': u'3',\n",
       "       u'@size': u'fpm'},\n",
       "      {u'$t': u'http://photos.petfinder.com/photos/pets/37139683/3/?bust=1483818280&width=500&-x.jpg',\n",
       "       u'@id': u'3',\n",
       "       u'@size': u'x'},\n",
       "      {u'$t': u'http://photos.petfinder.com/photos/pets/37139683/3/?bust=1483818280&width=300&-pn.jpg',\n",
       "       u'@id': u'3',\n",
       "       u'@size': u'pn'},\n",
       "      {u'$t': u'http://photos.petfinder.com/photos/pets/37139683/3/?bust=1483818280&width=50&-t.jpg',\n",
       "       u'@id': u'3',\n",
       "       u'@size': u't'}]}},\n",
       "   u'mix': {u'$t': u'yes'},\n",
       "   u'name': {u'$t': u'Willow'},\n",
       "   u'options': {u'option': [{u'$t': u'hasShots'}, {u'$t': u'housetrained'}]},\n",
       "   u'sex': {u'$t': u'F'},\n",
       "   u'shelterId': {u'$t': u'TX1568'},\n",
       "   u'shelterPetId': {},\n",
       "   u'size': {u'$t': u'L'},\n",
       "   u'status': {u'$t': u'A'}}}}"
      ]
     },
     "execution_count": 56,
     "metadata": {},
     "output_type": "execute_result"
    }
   ],
   "source": [
    "js"
   ]
  },
  {
   "cell_type": "markdown",
   "metadata": {},
   "source": [
    "The urlparse method will parse the url into an unmutable tuple that you need to convert to a list to edit.  Let's create the pet_url method that that will expedite the process of creating a url string by specifying the petfinder arguments."
   ]
  },
  {
   "cell_type": "code",
   "execution_count": 243,
   "metadata": {
    "collapsed": false
   },
   "outputs": [
    {
     "data": {
      "text/plain": [
       "['http',\n",
       " 'api.petfinder.com',\n",
       " '/pet.getRandom',\n",
       " '',\n",
       " 'key=968c2462c24152988a11d4c81e271b44&animal=dog&format=json&output=basic',\n",
       " '']"
      ]
     },
     "execution_count": 243,
     "metadata": {},
     "output_type": "execute_result"
    }
   ],
   "source": [
    "urll = list(urlparse(pet_url))"
   ]
  },
  {
   "cell_type": "code",
   "execution_count": 261,
   "metadata": {
    "collapsed": false
   },
   "outputs": [],
   "source": [
    "def pet_url(key,method=\"pet.getRandom\",animal=\"dog\",\n",
    "              form=\"json\",output=\"basic\"):\n",
    "    \"\"\"\n",
    "    Input: api key and parameters for the query\n",
    "    Output: a json object\n",
    "    \"\"\"\n",
    "    urll = list(urlparse(\"http://api.petfinder.com/\"))\n",
    "    params = \"key={}&animal={}&format={}&output={}\".format(key,animal,form,output)\n",
    "    urll[2] = method\n",
    "    urll[4] = params\n",
    "    return urlunparse(urll)"
   ]
  },
  {
   "cell_type": "code",
   "execution_count": 262,
   "metadata": {
    "collapsed": false
   },
   "outputs": [
    {
     "data": {
      "text/plain": [
       "'http://api.petfinder.com/pet.getRandom?key=12345&animal=dog&format=json&output=basic'"
      ]
     },
     "execution_count": 262,
     "metadata": {},
     "output_type": "execute_result"
    }
   ],
   "source": [
    "pet_url('12345')"
   ]
  },
  {
   "cell_type": "code",
   "execution_count": 279,
   "metadata": {
    "collapsed": false
   },
   "outputs": [],
   "source": [
    "def print_pet(js):\n",
    "    \"\"\"\n",
    "    Input: Petfinder JSON object from getRandom method\n",
    "    Output: String describing the pet\n",
    "    \"\"\"\n",
    "    breed_obj = js[u'petfinder'][u'pet'][u'breeds'][u'breed']\n",
    "    if type(breed_obj) == list:\n",
    "        breeds = [a[u'$t'].encode('utf-8') for a in breed_obj]\n",
    "        breed = \", \".join(breeds) + \" mix\"\n",
    "    else:\n",
    "        breed = breed_obj[u'$t'].encode('utf-8')\n",
    "    name = js[u'petfinder'][u'pet'][u'name'][u'$t'].encode('utf-8')\n",
    "    desc = js[u'petfinder'][u'pet'][u'description'][u'$t'].encode('utf-8')\n",
    "    return \"{} is a {}. {}\".format(name,breed,desc)"
   ]
  },
  {
   "cell_type": "code",
   "execution_count": 280,
   "metadata": {
    "collapsed": false,
    "scrolled": true
   },
   "outputs": [
    {
     "name": "stdout",
     "output_type": "stream",
     "text": [
      "angel is a Mastiff, Labrador Retriever mix. This little girl, was returned after 3 years(she got adopted as a puppy)...long story short, she ended up at an animal shelter and was about to be put down until they found a chip that led back to our rescue. I couldn't let them put her down so I went to pick her up, but now the lady that adopted her out cannot keep her and doesn't really want anything to do with her.  . She is very friendly, high energy....loves to run. She's not too good with other dogs, definitely not good with cats but if she is a lover.  Please share and help me find her a home! Located in Carson, CA. 3108098491\n"
     ]
    }
   ],
   "source": [
    "print print_pet(js)"
   ]
  },
  {
   "cell_type": "code",
   "execution_count": 107,
   "metadata": {
    "collapsed": false
   },
   "outputs": [
    {
     "data": {
      "text/plain": [
       "[{u'$t': u'http://photos.petfinder.com/photos/pets/37139683/1/?bust=1483818088&width=60&-pnt.jpg',\n",
       "  u'@id': u'1',\n",
       "  u'@size': u'pnt'},\n",
       " {u'$t': u'http://photos.petfinder.com/photos/pets/37139683/1/?bust=1483818088&width=95&-fpm.jpg',\n",
       "  u'@id': u'1',\n",
       "  u'@size': u'fpm'},\n",
       " {u'$t': u'http://photos.petfinder.com/photos/pets/37139683/1/?bust=1483818088&width=500&-x.jpg',\n",
       "  u'@id': u'1',\n",
       "  u'@size': u'x'},\n",
       " {u'$t': u'http://photos.petfinder.com/photos/pets/37139683/1/?bust=1483818088&width=300&-pn.jpg',\n",
       "  u'@id': u'1',\n",
       "  u'@size': u'pn'},\n",
       " {u'$t': u'http://photos.petfinder.com/photos/pets/37139683/1/?bust=1483818088&width=50&-t.jpg',\n",
       "  u'@id': u'1',\n",
       "  u'@size': u't'},\n",
       " {u'$t': u'http://photos.petfinder.com/photos/pets/37139683/2/?bust=1483818088&width=60&-pnt.jpg',\n",
       "  u'@id': u'2',\n",
       "  u'@size': u'pnt'},\n",
       " {u'$t': u'http://photos.petfinder.com/photos/pets/37139683/2/?bust=1483818088&width=95&-fpm.jpg',\n",
       "  u'@id': u'2',\n",
       "  u'@size': u'fpm'},\n",
       " {u'$t': u'http://photos.petfinder.com/photos/pets/37139683/2/?bust=1483818088&width=500&-x.jpg',\n",
       "  u'@id': u'2',\n",
       "  u'@size': u'x'},\n",
       " {u'$t': u'http://photos.petfinder.com/photos/pets/37139683/2/?bust=1483818088&width=300&-pn.jpg',\n",
       "  u'@id': u'2',\n",
       "  u'@size': u'pn'},\n",
       " {u'$t': u'http://photos.petfinder.com/photos/pets/37139683/2/?bust=1483818088&width=50&-t.jpg',\n",
       "  u'@id': u'2',\n",
       "  u'@size': u't'},\n",
       " {u'$t': u'http://photos.petfinder.com/photos/pets/37139683/3/?bust=1483818280&width=60&-pnt.jpg',\n",
       "  u'@id': u'3',\n",
       "  u'@size': u'pnt'},\n",
       " {u'$t': u'http://photos.petfinder.com/photos/pets/37139683/3/?bust=1483818280&width=95&-fpm.jpg',\n",
       "  u'@id': u'3',\n",
       "  u'@size': u'fpm'},\n",
       " {u'$t': u'http://photos.petfinder.com/photos/pets/37139683/3/?bust=1483818280&width=500&-x.jpg',\n",
       "  u'@id': u'3',\n",
       "  u'@size': u'x'},\n",
       " {u'$t': u'http://photos.petfinder.com/photos/pets/37139683/3/?bust=1483818280&width=300&-pn.jpg',\n",
       "  u'@id': u'3',\n",
       "  u'@size': u'pn'},\n",
       " {u'$t': u'http://photos.petfinder.com/photos/pets/37139683/3/?bust=1483818280&width=50&-t.jpg',\n",
       "  u'@id': u'3',\n",
       "  u'@size': u't'}]"
      ]
     },
     "execution_count": 107,
     "metadata": {},
     "output_type": "execute_result"
    }
   ],
   "source": [
    "image_recs = js[u'petfinder'][u'pet'][u'media'][u'photos'][u'photo']\n",
    "image_recs"
   ]
  },
  {
   "cell_type": "code",
   "execution_count": 270,
   "metadata": {
    "collapsed": false
   },
   "outputs": [],
   "source": [
    "def display_pet(js):\n",
    "    \"\"\"\n",
    "    Input: petfinder json object\n",
    "    Output: html string\n",
    "    \"\"\"\n",
    "    from IPython.display import HTML\n",
    "    try:\n",
    "        image_recs = js[u'petfinder'][u'pet'][u'media'][u'photos'][u'photo']\n",
    "    except KeyError:\n",
    "        return \"\"\n",
    "    for rec in image_recs:\n",
    "        image_uri = rec['$t']\n",
    "        if rec['@size'] == u'x':\n",
    "            break\n",
    "    return \"<center><img src='{}'></center>\".format(image_uri)"
   ]
  },
  {
   "cell_type": "code",
   "execution_count": 129,
   "metadata": {
    "collapsed": false
   },
   "outputs": [
    {
     "data": {
      "text/html": [
       "<center><img src='http://photos.petfinder.com/photos/pets/37139683/1/?bust=1483818088&width=500&-x.jpg'></center>Willow is a Terrier. Willow is a precious girl we rescued from a local shelter.  she is very gentle, and excited to be around people .   She's not showing any food aggression, has taken food and treats from my hand, and has given my cat affectionate kisses. She's enjoying her crate, and likes to play with her toys. It's a bit early yet, but so far she's been excellent about going outdoors to relieve herself. She seems like she'll be a smart girl and has an excellent demeanor."
      ],
      "text/plain": [
       "<IPython.core.display.HTML object>"
      ]
     },
     "execution_count": 129,
     "metadata": {},
     "output_type": "execute_result"
    }
   ],
   "source": [
    "HTML(display_pet(js) + print_pet(js))"
   ]
  },
  {
   "cell_type": "code",
   "execution_count": 282,
   "metadata": {
    "collapsed": false
   },
   "outputs": [],
   "source": [
    "def random_dog(key):\n",
    "    \"\"\"\n",
    "    Input: api key\n",
    "    Output: HTML description of the dog\n",
    "    \"\"\"\n",
    "    pet_url_rand = pet_url(key)\n",
    "    request = Request(pet_url_rand)\n",
    "    response = urlopen(request)\n",
    "    js = json.loads(response.read())\n",
    "    return HTML(display_pet(js) + print_pet(js))"
   ]
  },
  {
   "cell_type": "code",
   "execution_count": 283,
   "metadata": {
    "collapsed": false
   },
   "outputs": [
    {
     "data": {
      "text/html": [
       "<center><img src='http://photos.petfinder.com/photos/pets/22321684/1/?bust=1441207929&width=500&-x.jpg'></center>Emmalee is a Labrador Retriever. Emmalee showed up at school when I was getting my classroom ready for the new schoolyear in 2011.  She and her brother would arrive each morning, scrounging for food and water.  They were both very thin, and Emmalee appeared to have been hit by a car.  One hip was about three inches higher than the other one.  I set out food and water for them each day, and I promised them that I would take them home with me if they would hang around until I was ready to leave.   Each evening when I left for the night, the puppies were nowhere to be found.  This went on for about three days.  I brought a crate to school so that I would have a place to contain them while I worked.  Of course, they didn't show up.  A week passed, and I hadn't seen the puppies.  I mentioned them to our school bookkeeper, and she said that the dogcatcher had picked up the male puppy but couldn't catch the female.  I was sick.  I didn't know where Emmalee was or if she had been picked up, too.  The very next day, our custodian said that Emmalee was back!  Emmalee spent the rest of the afternoon in the crate, and she announced to the world that she was very unhappy about that situation. \n",
       "\n",
       "We had no available places at Red Fern, so I dropped her by one of our clinics to be vetted and boarded until we could make a place for her.  Our vet believes that Emmalee was either hit by a car or kicked--probably kicked, since there were also pellets from a pellet gun underneath her skin.  The vet did not recommend surgery for her hip.  He said that she didn't appear to be bothered by the injury, and there was no guarantee that the $3,000 to $5,000 surgery would benefit her.  As Emmalee gained weight, her hips seemed to realign themselves.  There is still a difference, and she does have a slight limp, but it's not as pronounced as it originally was.  Emmalee is as active as any young girl, and we can't tell that she is bothered by the injury.  \n",
       "\n",
       "Emmalee would like to live with a person or a family who has time for her.  She doesn't want to wander the streets having to look for her next meal.  She doesn't want to live in an outdoor kennel.  And she doesn't want to live her life at the end of a chain.  She wants to be a member of a family somewhere--loved and valued the way she should have been from the very beginning of her life.\n",
       "\n",
       " Emmalee's adoption fee is $200.00.  If you are interested in becoming her person, please submit an adoption application.  Someone from Red Fern will contact you and answer any questions you have about her.  Thank you!"
      ],
      "text/plain": [
       "<IPython.core.display.HTML object>"
      ]
     },
     "metadata": {},
     "output_type": "display_data"
    }
   ],
   "source": [
    "try:\n",
    "    display(random_dog(key))\n",
    "except KeyError:\n",
    "    print \"Poor format from petfinder.\""
   ]
  },
  {
   "cell_type": "markdown",
   "metadata": {},
   "source": [
    "# Breed Statistics\n",
    "\n",
    "Let's do some statistics.  We have a way of getting a random dog, so we can obtain a sample.  I'm interested in the breed distribution for example."
   ]
  },
  {
   "cell_type": "code",
   "execution_count": 154,
   "metadata": {
    "collapsed": false
   },
   "outputs": [],
   "source": [
    "from collections import Counter\n",
    "\n",
    "def random_dog_breed(key):\n",
    "    \"\"\"\n",
    "    Input: api key\n",
    "    Output: counter object of dog breeds\n",
    "    \"\"\"\n",
    "    pet_uri = \"http://api.petfinder.com/pet.getRandom?key={}&animal=dog&format=json&output=full\".format(key)\n",
    "    request = Request(pet_uri)\n",
    "    response = urlopen(request)\n",
    "    js = json.loads(response.read())\n",
    "    breed_obj = js[u'petfinder'][u'pet'][u'breeds'][u'breed']\n",
    "    if type(breed_obj) == list:\n",
    "        breeds = [a[u'$t'] for a in breed_obj]\n",
    "        breed_counter = Counter({b:1 for b in breeds})\n",
    "    else:\n",
    "        breed_counter = Counter({breed_obj[u'$t']: 1})\n",
    "    return breed_counter"
   ]
  },
  {
   "cell_type": "code",
   "execution_count": 161,
   "metadata": {
    "collapsed": false
   },
   "outputs": [],
   "source": [
    "tsize = 500\n",
    "Breed_dist = sum((random_dog_breed(key) for i in xrange(tsize)),Counter())"
   ]
  },
  {
   "cell_type": "code",
   "execution_count": 167,
   "metadata": {
    "collapsed": false
   },
   "outputs": [],
   "source": [
    "common_breeds = Breed_dist.most_common(10)"
   ]
  },
  {
   "cell_type": "code",
   "execution_count": 184,
   "metadata": {
    "collapsed": false
   },
   "outputs": [
    {
     "data": {
      "text/plain": [
       "[(u'Labrador Retriever', 103),\n",
       " (u'Pit Bull Terrier', 92),\n",
       " (u'Mixed Breed', 58),\n",
       " (u'Chihuahua', 56),\n",
       " (u'Terrier', 28),\n",
       " (u'Boxer', 28),\n",
       " (u'Shepherd', 27),\n",
       " (u'Beagle', 22),\n",
       " (u'Hound', 19),\n",
       " (u'German Shepherd Dog', 17)]"
      ]
     },
     "execution_count": 184,
     "metadata": {},
     "output_type": "execute_result"
    }
   ],
   "source": [
    "common_breeds"
   ]
  },
  {
   "cell_type": "code",
   "execution_count": 214,
   "metadata": {
    "collapsed": false
   },
   "outputs": [
    {
     "data": {
      "text/plain": [
       "([<matplotlib.patches.Wedge at 0xa87e080>,\n",
       "  <matplotlib.patches.Wedge at 0xa87e940>,\n",
       "  <matplotlib.patches.Wedge at 0xa88c1d0>,\n",
       "  <matplotlib.patches.Wedge at 0xa88ca20>,\n",
       "  <matplotlib.patches.Wedge at 0xa89c2b0>,\n",
       "  <matplotlib.patches.Wedge at 0xa89cb00>,\n",
       "  <matplotlib.patches.Wedge at 0xa8a9390>,\n",
       "  <matplotlib.patches.Wedge at 0xa8a9be0>,\n",
       "  <matplotlib.patches.Wedge at 0xa8b7470>,\n",
       "  <matplotlib.patches.Wedge at 0xa8b7cc0>],\n",
       " [<matplotlib.text.Text at 0xa87e5f8>,\n",
       "  <matplotlib.text.Text at 0xa87ee80>,\n",
       "  <matplotlib.text.Text at 0xa88c710>,\n",
       "  <matplotlib.text.Text at 0xa88cf60>,\n",
       "  <matplotlib.text.Text at 0xa89c7f0>,\n",
       "  <matplotlib.text.Text at 0xa89cf98>,\n",
       "  <matplotlib.text.Text at 0xa8a98d0>,\n",
       "  <matplotlib.text.Text at 0xa8b7160>,\n",
       "  <matplotlib.text.Text at 0xa8b79b0>,\n",
       "  <matplotlib.text.Text at 0xa8c5240>])"
      ]
     },
     "execution_count": 214,
     "metadata": {},
     "output_type": "execute_result"
    },
    {
     "data": {
      "image/png": "[encoded data removed]",
      "text/plain": [
       "<matplotlib.figure.Figure at 0xa66ec88>"
      ]
     },
     "metadata": {},
     "output_type": "display_data"
    }
   ],
   "source": [
    "plt.pie([c[1] for c in common_breeds],labels=[c[0].encode('utf-8') for c in common_breeds])"
   ]
  }
 ],
 "metadata": {
  "anaconda-cloud": {},
  "kernelspec": {
   "display_name": "Python [default]",
   "language": "python",
   "name": "python2"
  },
  "language_info": {
   "codemirror_mode": {
    "name": "ipython",
    "version": 2
   },
   "file_extension": ".py",
   "mimetype": "text/x-python",
   "name": "python",
   "nbconvert_exporter": "python",
   "pygments_lexer": "ipython2",
   "version": "2.7.12"
  }
 },
 "nbformat": 4,
 "nbformat_minor": 1
}
